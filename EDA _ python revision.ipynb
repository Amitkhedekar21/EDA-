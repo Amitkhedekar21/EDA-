{
 "cells": [
  {
   "cell_type": "markdown",
   "id": "94554349",
   "metadata": {},
   "source": [
    "# EDA(Exploratory Data Analysis)"
   ]
  },
  {
   "cell_type": "code",
   "execution_count": 1,
   "id": "5de696fd",
   "metadata": {},
   "outputs": [],
   "source": [
    "import pandas as pd\n",
    "import numpy as np\n",
    "import matplotlib.pyplot as plt\n",
    "import seaborn as sns"
   ]
  },
  {
   "cell_type": "markdown",
   "id": "1eba76d8",
   "metadata": {},
   "source": [
    "## Pre-requisites of python for EDA "
   ]
  },
  {
   "cell_type": "raw",
   "id": "d9941826",
   "metadata": {},
   "source": [
    "1. Numpy\n",
    "2. Pandas\n",
    "3. Matplotlib\n",
    "4. Seaborn\n",
    "5. Descriptive Statistics"
   ]
  },
  {
   "cell_type": "markdown",
   "id": "01d31958",
   "metadata": {},
   "source": [
    "**EDA : EDA is used to clean the data before feeding the data to the Machine learning algorithm for analysis**"
   ]
  },
  {
   "cell_type": "raw",
   "id": "344b6d7a",
   "metadata": {},
   "source": [
    "# steps for EDA \n",
    "1. Handle Null Values\n",
    "2. Handling Outliers\n",
    "3. Handling Skewness\n",
    "4. Handling Categorical Data\n",
    "5. Scaling\n",
    "6. Feature Engineering"
   ]
  },
  {
   "cell_type": "markdown",
   "id": "a4d06dc2",
   "metadata": {},
   "source": [
    "## Handle Null Values"
   ]
  },
  {
   "cell_type": "raw",
   "id": "8c938727",
   "metadata": {},
   "source": [
    "Handle Null Values means handling missing values.\n",
    "For Null Values: nan inbuilt command of numpy \n",
    "np.nan"
   ]
  },
  {
   "cell_type": "raw",
   "id": "bc32e447",
   "metadata": {},
   "source": [
    "# create dataframe dataset with the help of list and dictionary including null "
   ]
  },
  {
   "cell_type": "code",
   "execution_count": 2,
   "id": "ff92fe99",
   "metadata": {},
   "outputs": [],
   "source": [
    "# create a list\n",
    "name=[\"Rohit\",\"Suraj\",\"Tushar\",\"Gopal\",\"Ashwin\"]\n",
    "math=[89,78,67,np.nan,76]\n",
    "science=[78,75,np.nan,np.nan,65]\n",
    "# create dic\n",
    "dict1={\"Name\":name,\"Math\":math,\"Science\":science}\n",
    "df=pd.DataFrame(dict1)"
   ]
  },
  {
   "cell_type": "code",
   "execution_count": 3,
   "id": "4fc672c2",
   "metadata": {},
   "outputs": [
    {
     "data": {
      "text/html": [
       "<div>\n",
       "<style scoped>\n",
       "    .dataframe tbody tr th:only-of-type {\n",
       "        vertical-align: middle;\n",
       "    }\n",
       "\n",
       "    .dataframe tbody tr th {\n",
       "        vertical-align: top;\n",
       "    }\n",
       "\n",
       "    .dataframe thead th {\n",
       "        text-align: right;\n",
       "    }\n",
       "</style>\n",
       "<table border=\"1\" class=\"dataframe\">\n",
       "  <thead>\n",
       "    <tr style=\"text-align: right;\">\n",
       "      <th></th>\n",
       "      <th>Name</th>\n",
       "      <th>Math</th>\n",
       "      <th>Science</th>\n",
       "    </tr>\n",
       "  </thead>\n",
       "  <tbody>\n",
       "    <tr>\n",
       "      <th>0</th>\n",
       "      <td>Rohit</td>\n",
       "      <td>89.0</td>\n",
       "      <td>78.0</td>\n",
       "    </tr>\n",
       "    <tr>\n",
       "      <th>1</th>\n",
       "      <td>Suraj</td>\n",
       "      <td>78.0</td>\n",
       "      <td>75.0</td>\n",
       "    </tr>\n",
       "    <tr>\n",
       "      <th>2</th>\n",
       "      <td>Tushar</td>\n",
       "      <td>67.0</td>\n",
       "      <td>NaN</td>\n",
       "    </tr>\n",
       "    <tr>\n",
       "      <th>3</th>\n",
       "      <td>Gopal</td>\n",
       "      <td>NaN</td>\n",
       "      <td>NaN</td>\n",
       "    </tr>\n",
       "    <tr>\n",
       "      <th>4</th>\n",
       "      <td>Ashwin</td>\n",
       "      <td>76.0</td>\n",
       "      <td>65.0</td>\n",
       "    </tr>\n",
       "  </tbody>\n",
       "</table>\n",
       "</div>"
      ],
      "text/plain": [
       "     Name  Math  Science\n",
       "0   Rohit  89.0     78.0\n",
       "1   Suraj  78.0     75.0\n",
       "2  Tushar  67.0      NaN\n",
       "3   Gopal   NaN      NaN\n",
       "4  Ashwin  76.0     65.0"
      ]
     },
     "execution_count": 3,
     "metadata": {},
     "output_type": "execute_result"
    }
   ],
   "source": [
    "df.head()"
   ]
  },
  {
   "cell_type": "code",
   "execution_count": 4,
   "id": "e0a8edc4",
   "metadata": {},
   "outputs": [
    {
     "data": {
      "text/plain": [
       "Name       0\n",
       "Math       1\n",
       "Science    2\n",
       "dtype: int64"
      ]
     },
     "execution_count": 4,
     "metadata": {},
     "output_type": "execute_result"
    }
   ],
   "source": [
    "df.isnull().sum()\n",
    "# 1 null in Math and 2 null in science"
   ]
  },
  {
   "cell_type": "code",
   "execution_count": 5,
   "id": "187a71bc",
   "metadata": {},
   "outputs": [
    {
     "data": {
      "image/png": "[encoded data removed]",
      "text/plain": [
       "<Figure size 640x480 with 2 Axes>"
      ]
     },
     "metadata": {},
     "output_type": "display_data"
    }
   ],
   "source": [
    "# Visualize null values\n",
    "sns.heatmap(df.isnull())\n",
    "plt.show()"
   ]
  },
  {
   "cell_type": "code",
   "execution_count": 6,
   "id": "41ef0bed",
   "metadata": {},
   "outputs": [],
   "source": [
    "# to drop all null values:\n",
    "df.dropna(inplace=True)"
   ]
  },
  {
   "cell_type": "code",
   "execution_count": 7,
   "id": "ebf3eeff",
   "metadata": {},
   "outputs": [
    {
     "data": {
      "text/html": [
       "<div>\n",
       "<style scoped>\n",
       "    .dataframe tbody tr th:only-of-type {\n",
       "        vertical-align: middle;\n",
       "    }\n",
       "\n",
       "    .dataframe tbody tr th {\n",
       "        vertical-align: top;\n",
       "    }\n",
       "\n",
       "    .dataframe thead th {\n",
       "        text-align: right;\n",
       "    }\n",
       "</style>\n",
       "<table border=\"1\" class=\"dataframe\">\n",
       "  <thead>\n",
       "    <tr style=\"text-align: right;\">\n",
       "      <th></th>\n",
       "      <th>Name</th>\n",
       "      <th>Math</th>\n",
       "      <th>Science</th>\n",
       "    </tr>\n",
       "  </thead>\n",
       "  <tbody>\n",
       "    <tr>\n",
       "      <th>0</th>\n",
       "      <td>Rohit</td>\n",
       "      <td>89.0</td>\n",
       "      <td>78.0</td>\n",
       "    </tr>\n",
       "    <tr>\n",
       "      <th>1</th>\n",
       "      <td>Suraj</td>\n",
       "      <td>78.0</td>\n",
       "      <td>75.0</td>\n",
       "    </tr>\n",
       "    <tr>\n",
       "      <th>4</th>\n",
       "      <td>Ashwin</td>\n",
       "      <td>76.0</td>\n",
       "      <td>65.0</td>\n",
       "    </tr>\n",
       "  </tbody>\n",
       "</table>\n",
       "</div>"
      ],
      "text/plain": [
       "     Name  Math  Science\n",
       "0   Rohit  89.0     78.0\n",
       "1   Suraj  78.0     75.0\n",
       "4  Ashwin  76.0     65.0"
      ]
     },
     "execution_count": 7,
     "metadata": {},
     "output_type": "execute_result"
    }
   ],
   "source": [
    "df"
   ]
  },
  {
   "cell_type": "markdown",
   "id": "ec19041f",
   "metadata": {},
   "source": [
    "## Now perform EDA for automobile dataset"
   ]
  },
  {
   "cell_type": "code",
   "execution_count": 8,
   "id": "86a7ae2d",
   "metadata": {},
   "outputs": [],
   "source": [
    "auto=pd.read_csv(\"Automobile_data.csv\")"
   ]
  },
  {
   "cell_type": "code",
   "execution_count": 9,
   "id": "19fff93b",
   "metadata": {},
   "outputs": [
    {
     "data": {
      "text/html": [
       "<div>\n",
       "<style scoped>\n",
       "    .dataframe tbody tr th:only-of-type {\n",
       "        vertical-align: middle;\n",
       "    }\n",
       "\n",
       "    .dataframe tbody tr th {\n",
       "        vertical-align: top;\n",
       "    }\n",
       "\n",
       "    .dataframe thead th {\n",
       "        text-align: right;\n",
       "    }\n",
       "</style>\n",
       "<table border=\"1\" class=\"dataframe\">\n",
       "  <thead>\n",
       "    <tr style=\"text-align: right;\">\n",
       "      <th></th>\n",
       "      <th>symboling</th>\n",
       "      <th>normalized-losses</th>\n",
       "      <th>make</th>\n",
       "      <th>fuel-type</th>\n",
       "      <th>body-style</th>\n",
       "      <th>drive-wheels</th>\n",
       "      <th>engine-location</th>\n",
       "      <th>width</th>\n",
       "      <th>height</th>\n",
       "      <th>engine-type</th>\n",
       "      <th>engine-size</th>\n",
       "      <th>horsepower</th>\n",
       "      <th>city-mpg</th>\n",
       "      <th>highway-mpg</th>\n",
       "      <th>price</th>\n",
       "    </tr>\n",
       "  </thead>\n",
       "  <tbody>\n",
       "    <tr>\n",
       "      <th>0</th>\n",
       "      <td>3</td>\n",
       "      <td>?</td>\n",
       "      <td>alfa-romero</td>\n",
       "      <td>gas</td>\n",
       "      <td>convertible</td>\n",
       "      <td>rwd</td>\n",
       "      <td>front</td>\n",
       "      <td>64.1</td>\n",
       "      <td>48.8</td>\n",
       "      <td>dohc</td>\n",
       "      <td>130</td>\n",
       "      <td>111</td>\n",
       "      <td>21</td>\n",
       "      <td>27</td>\n",
       "      <td>13495</td>\n",
       "    </tr>\n",
       "    <tr>\n",
       "      <th>1</th>\n",
       "      <td>3</td>\n",
       "      <td>?</td>\n",
       "      <td>alfa-romero</td>\n",
       "      <td>gas</td>\n",
       "      <td>convertible</td>\n",
       "      <td>rwd</td>\n",
       "      <td>front</td>\n",
       "      <td>64.1</td>\n",
       "      <td>48.8</td>\n",
       "      <td>dohc</td>\n",
       "      <td>130</td>\n",
       "      <td>111</td>\n",
       "      <td>21</td>\n",
       "      <td>27</td>\n",
       "      <td>16500</td>\n",
       "    </tr>\n",
       "    <tr>\n",
       "      <th>2</th>\n",
       "      <td>1</td>\n",
       "      <td>?</td>\n",
       "      <td>alfa-romero</td>\n",
       "      <td>gas</td>\n",
       "      <td>hatchback</td>\n",
       "      <td>rwd</td>\n",
       "      <td>front</td>\n",
       "      <td>65.5</td>\n",
       "      <td>52.4</td>\n",
       "      <td>ohcv</td>\n",
       "      <td>152</td>\n",
       "      <td>154</td>\n",
       "      <td>19</td>\n",
       "      <td>26</td>\n",
       "      <td>16500</td>\n",
       "    </tr>\n",
       "    <tr>\n",
       "      <th>3</th>\n",
       "      <td>2</td>\n",
       "      <td>164</td>\n",
       "      <td>audi</td>\n",
       "      <td>gas</td>\n",
       "      <td>sedan</td>\n",
       "      <td>fwd</td>\n",
       "      <td>front</td>\n",
       "      <td>66.2</td>\n",
       "      <td>54.3</td>\n",
       "      <td>ohc</td>\n",
       "      <td>109</td>\n",
       "      <td>102</td>\n",
       "      <td>24</td>\n",
       "      <td>30</td>\n",
       "      <td>13950</td>\n",
       "    </tr>\n",
       "    <tr>\n",
       "      <th>4</th>\n",
       "      <td>2</td>\n",
       "      <td>164</td>\n",
       "      <td>audi</td>\n",
       "      <td>gas</td>\n",
       "      <td>sedan</td>\n",
       "      <td>4wd</td>\n",
       "      <td>front</td>\n",
       "      <td>66.4</td>\n",
       "      <td>54.3</td>\n",
       "      <td>ohc</td>\n",
       "      <td>136</td>\n",
       "      <td>115</td>\n",
       "      <td>18</td>\n",
       "      <td>22</td>\n",
       "      <td>17450</td>\n",
       "    </tr>\n",
       "  </tbody>\n",
       "</table>\n",
       "</div>"
      ],
      "text/plain": [
       "   symboling normalized-losses         make fuel-type   body-style  \\\n",
       "0          3                 ?  alfa-romero       gas  convertible   \n",
       "1          3                 ?  alfa-romero       gas  convertible   \n",
       "2          1                 ?  alfa-romero       gas    hatchback   \n",
       "3          2               164         audi       gas        sedan   \n",
       "4          2               164         audi       gas        sedan   \n",
       "\n",
       "  drive-wheels engine-location  width  height engine-type  engine-size  \\\n",
       "0          rwd           front   64.1    48.8        dohc          130   \n",
       "1          rwd           front   64.1    48.8        dohc          130   \n",
       "2          rwd           front   65.5    52.4        ohcv          152   \n",
       "3          fwd           front   66.2    54.3         ohc          109   \n",
       "4          4wd           front   66.4    54.3         ohc          136   \n",
       "\n",
       "  horsepower  city-mpg  highway-mpg  price  \n",
       "0        111        21           27  13495  \n",
       "1        111        21           27  16500  \n",
       "2        154        19           26  16500  \n",
       "3        102        24           30  13950  \n",
       "4        115        18           22  17450  "
      ]
     },
     "execution_count": 9,
     "metadata": {},
     "output_type": "execute_result"
    }
   ],
   "source": [
    "auto.head()"
   ]
  },
  {
   "cell_type": "code",
   "execution_count": 10,
   "id": "907dfa0a",
   "metadata": {},
   "outputs": [],
   "source": [
    "# so we can see that the data is impure \"?\" is involved"
   ]
  },
  {
   "cell_type": "code",
   "execution_count": 11,
   "id": "12bfa83b",
   "metadata": {},
   "outputs": [
    {
     "data": {
      "text/plain": [
       "Name       0\n",
       "Math       0\n",
       "Science    0\n",
       "dtype: int64"
      ]
     },
     "execution_count": 11,
     "metadata": {},
     "output_type": "execute_result"
    }
   ],
   "source": [
    "# check for null values\n",
    "df.isnull().sum()"
   ]
  },
  {
   "cell_type": "markdown",
   "id": "693c5a76",
   "metadata": {},
   "source": [
    "## so we can see that it is showing \"0\" nulls but we can see impurities present"
   ]
  },
  {
   "cell_type": "code",
   "execution_count": 12,
   "id": "2bfe5a3c",
   "metadata": {},
   "outputs": [
    {
     "data": {
      "text/plain": [
       "symboling              int64\n",
       "normalized-losses     object\n",
       "make                  object\n",
       "fuel-type             object\n",
       "body-style            object\n",
       "drive-wheels          object\n",
       "engine-location       object\n",
       "width                float64\n",
       "height               float64\n",
       "engine-type           object\n",
       "engine-size            int64\n",
       "horsepower            object\n",
       "city-mpg               int64\n",
       "highway-mpg            int64\n",
       "price                  int64\n",
       "dtype: object"
      ]
     },
     "execution_count": 12,
     "metadata": {},
     "output_type": "execute_result"
    }
   ],
   "source": [
    "# now check datatypes of all columns\n",
    "auto.dtypes"
   ]
  },
  {
   "cell_type": "markdown",
   "id": "2bece0c7",
   "metadata": {},
   "source": [
    "### normalized-losses:"
   ]
  },
  {
   "cell_type": "raw",
   "id": "1eacabe5",
   "metadata": {},
   "source": [
    "we can see that the normalized-losses is numeric type in actual but it is showing as \n",
    "object type. Means there might be object type data present in the column"
   ]
  },
  {
   "cell_type": "code",
   "execution_count": 28,
   "id": "5c8b5c31",
   "metadata": {
    "scrolled": true
   },
   "outputs": [
    {
     "data": {
      "text/plain": [
       "array(['?', '164', '158', '192', '188', '121', '98', '81', '118', '148',\n",
       "       '110', '145', '137', '101', '78', '106', '85', '107', '104', '113',\n",
       "       '150', '129', '115', '93', '142', '161', '153', '125', '128',\n",
       "       '122', '103', '168', '108', '194', '231', '119', '154', '74',\n",
       "       '186', '83', '102', '89', '87', '77', '91', '134', '65', '197',\n",
       "       '90', '94', '256', '95'], dtype=object)"
      ]
     },
     "execution_count": 28,
     "metadata": {},
     "output_type": "execute_result"
    }
   ],
   "source": [
    "# so now check what different values are present use unique function\n",
    "auto[\"normalized-losses\"].unique()"
   ]
  },
  {
   "cell_type": "code",
   "execution_count": 29,
   "id": "71d04298",
   "metadata": {},
   "outputs": [
    {
     "name": "stdout",
     "output_type": "stream",
     "text": [
      "?\n",
      "?\n",
      "?\n",
      "?\n",
      "?\n",
      "?\n",
      "?\n",
      "?\n",
      "?\n",
      "?\n",
      "?\n",
      "?\n",
      "?\n",
      "?\n",
      "?\n",
      "?\n",
      "?\n",
      "?\n",
      "?\n",
      "?\n",
      "?\n",
      "?\n",
      "?\n",
      "?\n",
      "?\n",
      "?\n",
      "?\n",
      "?\n",
      "?\n",
      "?\n",
      "?\n",
      "?\n",
      "?\n",
      "?\n",
      "?\n",
      "?\n",
      "?\n",
      "?\n",
      "?\n",
      "?\n",
      "?\n",
      "41\n"
     ]
    }
   ],
   "source": [
    "c=0\n",
    "for i in auto[\"normalized-losses\"]:\n",
    "    if not (str(i).isnumeric()):\n",
    "        c=c+1\n",
    "        print(i)\n",
    "print(c)        "
   ]
  },
  {
   "cell_type": "code",
   "execution_count": 30,
   "id": "b212aff4",
   "metadata": {},
   "outputs": [],
   "source": [
    "# so now we have to replace \"?\" with null\n",
    "auto[\"normalized-losses\"].replace(\"?\",np.nan,inplace=True)"
   ]
  },
  {
   "cell_type": "code",
   "execution_count": 31,
   "id": "a1700e8b",
   "metadata": {},
   "outputs": [
    {
     "data": {
      "text/plain": [
       "symboling             0\n",
       "normalized-losses    41\n",
       "make                  0\n",
       "fuel-type             0\n",
       "body-style            0\n",
       "drive-wheels          0\n",
       "engine-location       0\n",
       "width                 0\n",
       "height                0\n",
       "engine-type           0\n",
       "engine-size           0\n",
       "horsepower            0\n",
       "city-mpg              0\n",
       "highway-mpg           0\n",
       "price                 0\n",
       "dtype: int64"
      ]
     },
     "execution_count": 31,
     "metadata": {},
     "output_type": "execute_result"
    }
   ],
   "source": [
    "# Now check for null\n",
    "auto.isnull().sum()"
   ]
  },
  {
   "cell_type": "raw",
   "id": "4368d24c",
   "metadata": {},
   "source": [
    "Now we only fill null values when it is less than 50% when more than 50% we\n",
    "need to delete the full column "
   ]
  },
  {
   "cell_type": "code",
   "execution_count": 35,
   "id": "232fce93",
   "metadata": {},
   "outputs": [],
   "source": [
    "# so now we will change the datatype of column \"normalized-losses\" to float\n",
    "auto[\"normalized-losses\"]=auto[\"normalized-losses\"].astype(float)"
   ]
  },
  {
   "cell_type": "code",
   "execution_count": 36,
   "id": "1f0ee2a0",
   "metadata": {},
   "outputs": [
    {
     "data": {
      "text/plain": [
       "20.0"
      ]
     },
     "execution_count": 36,
     "metadata": {},
     "output_type": "execute_result"
    }
   ],
   "source": [
    "# so to check percentage null in column\n",
    "(auto[\"normalized-losses\"].isnull().sum()*100)/auto[\"normalized-losses\"].size"
   ]
  },
  {
   "cell_type": "markdown",
   "id": "b2eae963",
   "metadata": {},
   "source": [
    "***so now only 20% of data is null so we will fill the column \"normalized-losses\" with its mean***"
   ]
  },
  {
   "cell_type": "code",
   "execution_count": 37,
   "id": "ed06425d",
   "metadata": {},
   "outputs": [],
   "source": [
    "# get the mean\n",
    "m=auto[\"normalized-losses\"].mean()\n",
    "# now fill mean where there is null\n",
    "auto[\"normalized-losses\"].fillna(round(m,2),inplace=True)"
   ]
  },
  {
   "cell_type": "markdown",
   "id": "7207f735",
   "metadata": {},
   "source": [
    "***Now cross check for datatype and null***"
   ]
  },
  {
   "cell_type": "code",
   "execution_count": 38,
   "id": "009b1382",
   "metadata": {},
   "outputs": [
    {
     "data": {
      "text/plain": [
       "0"
      ]
     },
     "execution_count": 38,
     "metadata": {},
     "output_type": "execute_result"
    }
   ],
   "source": [
    "auto[\"normalized-losses\"].isnull().sum()"
   ]
  },
  {
   "cell_type": "code",
   "execution_count": 40,
   "id": "c7295afa",
   "metadata": {},
   "outputs": [
    {
     "data": {
      "text/plain": [
       "dtype('float64')"
      ]
     },
     "execution_count": 40,
     "metadata": {},
     "output_type": "execute_result"
    }
   ],
   "source": [
    "auto[\"normalized-losses\"].dtype"
   ]
  },
  {
   "cell_type": "markdown",
   "id": "70d4181a",
   "metadata": {},
   "source": [
    "# Now second method of EDA to check outliers"
   ]
  },
  {
   "cell_type": "markdown",
   "id": "857547bc",
   "metadata": {},
   "source": [
    "***First check outliers according to output only use boxplot***"
   ]
  },
  {
   "cell_type": "code",
   "execution_count": 43,
   "id": "47e1d1c8",
   "metadata": {},
   "outputs": [
    {
     "data": {
      "image/png": "[encoded data removed]",
      "text/plain": [
       "<Figure size 640x480 with 1 Axes>"
      ]
     },
     "metadata": {},
     "output_type": "display_data"
    }
   ],
   "source": [
    "sns.boxplot(auto[\"price\"])\n",
    "plt.show()"
   ]
  },
  {
   "cell_type": "markdown",
   "id": "f528e32b",
   "metadata": {},
   "source": [
    "***# Now we can't just make decisions based on the output and blindly delete all these records considering them as outliers. # We also need to check outliers with respect to input features because input also has effects on output and we should have domain knowledge to know which input feature is having major effect on the output. # In automobile industries we know that the company has major difference on the price.*** "
   ]
  },
  {
   "cell_type": "markdown",
   "id": "fbfc7863",
   "metadata": {},
   "source": [
    "## so now considering output based on company name"
   ]
  },
  {
   "cell_type": "code",
   "execution_count": 49,
   "id": "ca145d97",
   "metadata": {},
   "outputs": [
    {
     "data": {
      "image/png": "[encoded data removed]",
      "text/plain": [
       "<Figure size 640x480 with 1 Axes>"
      ]
     },
     "metadata": {},
     "output_type": "display_data"
    }
   ],
   "source": [
    "sns.boxplot(y=auto[\"make\"],x=auto[\"price\"])\n",
    "plt.show()"
   ]
  },
  {
   "cell_type": "code",
   "execution_count": 50,
   "id": "6b6a4631",
   "metadata": {},
   "outputs": [],
   "source": [
    "# now we can see outliers in dodge,honda,isuzu,mitsubishi,plymouth,toyota"
   ]
  },
  {
   "cell_type": "code",
   "execution_count": 59,
   "id": "9864cdf0",
   "metadata": {},
   "outputs": [
    {
     "data": {
      "text/html": [
       "<div>\n",
       "<style scoped>\n",
       "    .dataframe tbody tr th:only-of-type {\n",
       "        vertical-align: middle;\n",
       "    }\n",
       "\n",
       "    .dataframe tbody tr th {\n",
       "        vertical-align: top;\n",
       "    }\n",
       "\n",
       "    .dataframe thead th {\n",
       "        text-align: right;\n",
       "    }\n",
       "</style>\n",
       "<table border=\"1\" class=\"dataframe\">\n",
       "  <thead>\n",
       "    <tr style=\"text-align: right;\">\n",
       "      <th></th>\n",
       "      <th>symboling</th>\n",
       "      <th>normalized-losses</th>\n",
       "      <th>make</th>\n",
       "      <th>fuel-type</th>\n",
       "      <th>body-style</th>\n",
       "      <th>drive-wheels</th>\n",
       "      <th>engine-location</th>\n",
       "      <th>width</th>\n",
       "      <th>height</th>\n",
       "      <th>engine-type</th>\n",
       "      <th>engine-size</th>\n",
       "      <th>horsepower</th>\n",
       "      <th>city-mpg</th>\n",
       "      <th>highway-mpg</th>\n",
       "      <th>price</th>\n",
       "    </tr>\n",
       "  </thead>\n",
       "  <tbody>\n",
       "    <tr>\n",
       "      <th>29</th>\n",
       "      <td>3</td>\n",
       "      <td>145.0</td>\n",
       "      <td>dodge</td>\n",
       "      <td>gas</td>\n",
       "      <td>hatchback</td>\n",
       "      <td>fwd</td>\n",
       "      <td>front</td>\n",
       "      <td>66.3</td>\n",
       "      <td>50.2</td>\n",
       "      <td>ohc</td>\n",
       "      <td>156</td>\n",
       "      <td>145</td>\n",
       "      <td>19</td>\n",
       "      <td>24</td>\n",
       "      <td>12964</td>\n",
       "    </tr>\n",
       "  </tbody>\n",
       "</table>\n",
       "</div>"
      ],
      "text/plain": [
       "    symboling  normalized-losses   make fuel-type body-style drive-wheels  \\\n",
       "29          3              145.0  dodge       gas  hatchback          fwd   \n",
       "\n",
       "   engine-location  width  height engine-type  engine-size horsepower  \\\n",
       "29           front   66.3    50.2         ohc          156        145   \n",
       "\n",
       "    city-mpg  highway-mpg  price  \n",
       "29        19           24  12964  "
      ]
     },
     "execution_count": 59,
     "metadata": {},
     "output_type": "execute_result"
    }
   ],
   "source": [
    "# now to find outlier use conditional fintering\n",
    "auto[(auto[\"make\"]==\"dodge\") & (auto[\"price\"]>10000)]"
   ]
  },
  {
   "cell_type": "code",
   "execution_count": 61,
   "id": "ba8c2aae",
   "metadata": {},
   "outputs": [],
   "source": [
    "# so now delete outlier row 29 from dataframe\n",
    "auto.drop(29,inplace=True)"
   ]
  },
  {
   "cell_type": "code",
   "execution_count": 63,
   "id": "e8e40f37",
   "metadata": {},
   "outputs": [],
   "source": [
    "# so outlier removed silmilary do for the other columns"
   ]
  },
  {
   "cell_type": "markdown",
   "id": "e958cc28",
   "metadata": {},
   "source": [
    "## Handling Categorical Data"
   ]
  },
  {
   "cell_type": "markdown",
   "id": "53172247",
   "metadata": {},
   "source": [
    "***we need to handle categorical object type data means convert object type data to numeric type for that we have two methods of conversion--------- 1. one hot encoding  2. LabelEncoder***"
   ]
  },
  {
   "cell_type": "markdown",
   "id": "fed07340",
   "metadata": {},
   "source": [
    "## one hot encoding\n",
    "## what one hot encoding does is it makes 1 to all present value and 0 to that not present means\n",
    "## for eg if we have gender male and female so it will create 2 columns male and female and for male column\n",
    "## mark 1 to that rows where male and other all rows as 0, similarly for female mark 1 where female and 0 at remaining rows"
   ]
  },
  {
   "cell_type": "code",
   "execution_count": 65,
   "id": "5c481c40",
   "metadata": {},
   "outputs": [],
   "source": [
    "# eg: one hot encoding"
   ]
  },
  {
   "cell_type": "code",
   "execution_count": 71,
   "id": "81a6dbe4",
   "metadata": {},
   "outputs": [],
   "source": [
    "# create a dataframe\n",
    "age=[23,21,15,18,19,20]\n",
    "gender=[\"Male\",\"Female\",\"Female\",\"Male\",\"Male\",\"Female\"]\n",
    "qua=[\"BCA\",\"Graduate\",\"Post-Graduate\",\"Graduate\",\"BCA\",\"Post-Graduate\"]\n",
    "# create a dict\n",
    "dict1={\"age\":age,\"gender\":gender,\"qualification\":qua}\n",
    "# convert to dataframe\n",
    "df5=pd.DataFrame(dict1)"
   ]
  },
  {
   "cell_type": "code",
   "execution_count": 72,
   "id": "013160a4",
   "metadata": {
    "scrolled": true
   },
   "outputs": [
    {
     "data": {
      "text/html": [
       "<div>\n",
       "<style scoped>\n",
       "    .dataframe tbody tr th:only-of-type {\n",
       "        vertical-align: middle;\n",
       "    }\n",
       "\n",
       "    .dataframe tbody tr th {\n",
       "        vertical-align: top;\n",
       "    }\n",
       "\n",
       "    .dataframe thead th {\n",
       "        text-align: right;\n",
       "    }\n",
       "</style>\n",
       "<table border=\"1\" class=\"dataframe\">\n",
       "  <thead>\n",
       "    <tr style=\"text-align: right;\">\n",
       "      <th></th>\n",
       "      <th>age</th>\n",
       "      <th>gender</th>\n",
       "      <th>qualification</th>\n",
       "    </tr>\n",
       "  </thead>\n",
       "  <tbody>\n",
       "    <tr>\n",
       "      <th>0</th>\n",
       "      <td>23</td>\n",
       "      <td>Male</td>\n",
       "      <td>BCA</td>\n",
       "    </tr>\n",
       "    <tr>\n",
       "      <th>1</th>\n",
       "      <td>21</td>\n",
       "      <td>Female</td>\n",
       "      <td>Graduate</td>\n",
       "    </tr>\n",
       "    <tr>\n",
       "      <th>2</th>\n",
       "      <td>15</td>\n",
       "      <td>Female</td>\n",
       "      <td>Post-Graduate</td>\n",
       "    </tr>\n",
       "    <tr>\n",
       "      <th>3</th>\n",
       "      <td>18</td>\n",
       "      <td>Male</td>\n",
       "      <td>Graduate</td>\n",
       "    </tr>\n",
       "    <tr>\n",
       "      <th>4</th>\n",
       "      <td>19</td>\n",
       "      <td>Male</td>\n",
       "      <td>BCA</td>\n",
       "    </tr>\n",
       "    <tr>\n",
       "      <th>5</th>\n",
       "      <td>20</td>\n",
       "      <td>Female</td>\n",
       "      <td>Post-Graduate</td>\n",
       "    </tr>\n",
       "  </tbody>\n",
       "</table>\n",
       "</div>"
      ],
      "text/plain": [
       "   age  gender  qualification\n",
       "0   23    Male            BCA\n",
       "1   21  Female       Graduate\n",
       "2   15  Female  Post-Graduate\n",
       "3   18    Male       Graduate\n",
       "4   19    Male            BCA\n",
       "5   20  Female  Post-Graduate"
      ]
     },
     "execution_count": 72,
     "metadata": {},
     "output_type": "execute_result"
    }
   ],
   "source": [
    "df5"
   ]
  },
  {
   "cell_type": "code",
   "execution_count": 77,
   "id": "1b2745dd",
   "metadata": {
    "scrolled": true
   },
   "outputs": [
    {
     "data": {
      "text/html": [
       "<div>\n",
       "<style scoped>\n",
       "    .dataframe tbody tr th:only-of-type {\n",
       "        vertical-align: middle;\n",
       "    }\n",
       "\n",
       "    .dataframe tbody tr th {\n",
       "        vertical-align: top;\n",
       "    }\n",
       "\n",
       "    .dataframe thead th {\n",
       "        text-align: right;\n",
       "    }\n",
       "</style>\n",
       "<table border=\"1\" class=\"dataframe\">\n",
       "  <thead>\n",
       "    <tr style=\"text-align: right;\">\n",
       "      <th></th>\n",
       "      <th>Female</th>\n",
       "      <th>Male</th>\n",
       "    </tr>\n",
       "  </thead>\n",
       "  <tbody>\n",
       "    <tr>\n",
       "      <th>0</th>\n",
       "      <td>0</td>\n",
       "      <td>1</td>\n",
       "    </tr>\n",
       "    <tr>\n",
       "      <th>1</th>\n",
       "      <td>1</td>\n",
       "      <td>0</td>\n",
       "    </tr>\n",
       "    <tr>\n",
       "      <th>2</th>\n",
       "      <td>1</td>\n",
       "      <td>0</td>\n",
       "    </tr>\n",
       "    <tr>\n",
       "      <th>3</th>\n",
       "      <td>0</td>\n",
       "      <td>1</td>\n",
       "    </tr>\n",
       "    <tr>\n",
       "      <th>4</th>\n",
       "      <td>0</td>\n",
       "      <td>1</td>\n",
       "    </tr>\n",
       "    <tr>\n",
       "      <th>5</th>\n",
       "      <td>1</td>\n",
       "      <td>0</td>\n",
       "    </tr>\n",
       "  </tbody>\n",
       "</table>\n",
       "</div>"
      ],
      "text/plain": [
       "   Female  Male\n",
       "0       0     1\n",
       "1       1     0\n",
       "2       1     0\n",
       "3       0     1\n",
       "4       0     1\n",
       "5       1     0"
      ]
     },
     "execution_count": 77,
     "metadata": {},
     "output_type": "execute_result"
    }
   ],
   "source": [
    "# apply one hot encoding\n",
    "# get_dummies : inbuit method of one_hot_encoding in pandas\n",
    "pd.get_dummies(df5[\"gender\"])"
   ]
  },
  {
   "cell_type": "markdown",
   "id": "1c0b575e",
   "metadata": {},
   "source": [
    "## LabelEncoder\n",
    "***on other hand what labelencoder does is it gives unique values to all different category means for gender colummn it will mark Female - 0  and male - 1 . so compared to one hot encoding label encoder is much fast in processing so saves a lot of time***"
   ]
  },
  {
   "cell_type": "code",
   "execution_count": 78,
   "id": "91096363",
   "metadata": {},
   "outputs": [],
   "source": [
    "# Now apply label encoder on gender column"
   ]
  },
  {
   "cell_type": "markdown",
   "id": "79412d8e",
   "metadata": {},
   "source": [
    "***call inbuilt class LabelEncoder defined in inbuilt package preprocessing***"
   ]
  },
  {
   "cell_type": "code",
   "execution_count": 81,
   "id": "bfa884d7",
   "metadata": {},
   "outputs": [],
   "source": [
    "from sklearn.preprocessing import LabelEncoder"
   ]
  },
  {
   "cell_type": "code",
   "execution_count": 82,
   "id": "8a459b7d",
   "metadata": {},
   "outputs": [],
   "source": [
    "le=LabelEncoder()"
   ]
  },
  {
   "cell_type": "code",
   "execution_count": 83,
   "id": "e250c44c",
   "metadata": {},
   "outputs": [],
   "source": [
    "# now apply labelEncoder\n",
    "df5['gender']=le.fit_transform(df5[\"gender\"]) #permanent change"
   ]
  },
  {
   "cell_type": "code",
   "execution_count": 86,
   "id": "13573e38",
   "metadata": {},
   "outputs": [
    {
     "data": {
      "text/html": [
       "<div>\n",
       "<style scoped>\n",
       "    .dataframe tbody tr th:only-of-type {\n",
       "        vertical-align: middle;\n",
       "    }\n",
       "\n",
       "    .dataframe tbody tr th {\n",
       "        vertical-align: top;\n",
       "    }\n",
       "\n",
       "    .dataframe thead th {\n",
       "        text-align: right;\n",
       "    }\n",
       "</style>\n",
       "<table border=\"1\" class=\"dataframe\">\n",
       "  <thead>\n",
       "    <tr style=\"text-align: right;\">\n",
       "      <th></th>\n",
       "      <th>age</th>\n",
       "      <th>gender</th>\n",
       "      <th>qualification</th>\n",
       "    </tr>\n",
       "  </thead>\n",
       "  <tbody>\n",
       "    <tr>\n",
       "      <th>0</th>\n",
       "      <td>23</td>\n",
       "      <td>1</td>\n",
       "      <td>BCA</td>\n",
       "    </tr>\n",
       "    <tr>\n",
       "      <th>1</th>\n",
       "      <td>21</td>\n",
       "      <td>0</td>\n",
       "      <td>Graduate</td>\n",
       "    </tr>\n",
       "    <tr>\n",
       "      <th>2</th>\n",
       "      <td>15</td>\n",
       "      <td>0</td>\n",
       "      <td>Post-Graduate</td>\n",
       "    </tr>\n",
       "    <tr>\n",
       "      <th>3</th>\n",
       "      <td>18</td>\n",
       "      <td>1</td>\n",
       "      <td>Graduate</td>\n",
       "    </tr>\n",
       "    <tr>\n",
       "      <th>4</th>\n",
       "      <td>19</td>\n",
       "      <td>1</td>\n",
       "      <td>BCA</td>\n",
       "    </tr>\n",
       "    <tr>\n",
       "      <th>5</th>\n",
       "      <td>20</td>\n",
       "      <td>0</td>\n",
       "      <td>Post-Graduate</td>\n",
       "    </tr>\n",
       "  </tbody>\n",
       "</table>\n",
       "</div>"
      ],
      "text/plain": [
       "   age  gender  qualification\n",
       "0   23       1            BCA\n",
       "1   21       0       Graduate\n",
       "2   15       0  Post-Graduate\n",
       "3   18       1       Graduate\n",
       "4   19       1            BCA\n",
       "5   20       0  Post-Graduate"
      ]
     },
     "execution_count": 86,
     "metadata": {},
     "output_type": "execute_result"
    }
   ],
   "source": [
    "df5   # 0-Female, 1-Male"
   ]
  },
  {
   "cell_type": "markdown",
   "id": "9c4a7268",
   "metadata": {},
   "source": [
    "## Appling label Encoder to automobile dataset"
   ]
  },
  {
   "cell_type": "code",
   "execution_count": 87,
   "id": "77d6862d",
   "metadata": {},
   "outputs": [
    {
     "data": {
      "text/html": [
       "<div>\n",
       "<style scoped>\n",
       "    .dataframe tbody tr th:only-of-type {\n",
       "        vertical-align: middle;\n",
       "    }\n",
       "\n",
       "    .dataframe tbody tr th {\n",
       "        vertical-align: top;\n",
       "    }\n",
       "\n",
       "    .dataframe thead th {\n",
       "        text-align: right;\n",
       "    }\n",
       "</style>\n",
       "<table border=\"1\" class=\"dataframe\">\n",
       "  <thead>\n",
       "    <tr style=\"text-align: right;\">\n",
       "      <th></th>\n",
       "      <th>symboling</th>\n",
       "      <th>normalized-losses</th>\n",
       "      <th>make</th>\n",
       "      <th>fuel-type</th>\n",
       "      <th>body-style</th>\n",
       "      <th>drive-wheels</th>\n",
       "      <th>engine-location</th>\n",
       "      <th>width</th>\n",
       "      <th>height</th>\n",
       "      <th>engine-type</th>\n",
       "      <th>engine-size</th>\n",
       "      <th>horsepower</th>\n",
       "      <th>city-mpg</th>\n",
       "      <th>highway-mpg</th>\n",
       "      <th>price</th>\n",
       "    </tr>\n",
       "  </thead>\n",
       "  <tbody>\n",
       "    <tr>\n",
       "      <th>0</th>\n",
       "      <td>3</td>\n",
       "      <td>122.0</td>\n",
       "      <td>alfa-romero</td>\n",
       "      <td>gas</td>\n",
       "      <td>convertible</td>\n",
       "      <td>rwd</td>\n",
       "      <td>front</td>\n",
       "      <td>64.1</td>\n",
       "      <td>48.8</td>\n",
       "      <td>dohc</td>\n",
       "      <td>130</td>\n",
       "      <td>111</td>\n",
       "      <td>21</td>\n",
       "      <td>27</td>\n",
       "      <td>13495</td>\n",
       "    </tr>\n",
       "    <tr>\n",
       "      <th>1</th>\n",
       "      <td>3</td>\n",
       "      <td>122.0</td>\n",
       "      <td>alfa-romero</td>\n",
       "      <td>gas</td>\n",
       "      <td>convertible</td>\n",
       "      <td>rwd</td>\n",
       "      <td>front</td>\n",
       "      <td>64.1</td>\n",
       "      <td>48.8</td>\n",
       "      <td>dohc</td>\n",
       "      <td>130</td>\n",
       "      <td>111</td>\n",
       "      <td>21</td>\n",
       "      <td>27</td>\n",
       "      <td>16500</td>\n",
       "    </tr>\n",
       "    <tr>\n",
       "      <th>2</th>\n",
       "      <td>1</td>\n",
       "      <td>122.0</td>\n",
       "      <td>alfa-romero</td>\n",
       "      <td>gas</td>\n",
       "      <td>hatchback</td>\n",
       "      <td>rwd</td>\n",
       "      <td>front</td>\n",
       "      <td>65.5</td>\n",
       "      <td>52.4</td>\n",
       "      <td>ohcv</td>\n",
       "      <td>152</td>\n",
       "      <td>154</td>\n",
       "      <td>19</td>\n",
       "      <td>26</td>\n",
       "      <td>16500</td>\n",
       "    </tr>\n",
       "    <tr>\n",
       "      <th>3</th>\n",
       "      <td>2</td>\n",
       "      <td>164.0</td>\n",
       "      <td>audi</td>\n",
       "      <td>gas</td>\n",
       "      <td>sedan</td>\n",
       "      <td>fwd</td>\n",
       "      <td>front</td>\n",
       "      <td>66.2</td>\n",
       "      <td>54.3</td>\n",
       "      <td>ohc</td>\n",
       "      <td>109</td>\n",
       "      <td>102</td>\n",
       "      <td>24</td>\n",
       "      <td>30</td>\n",
       "      <td>13950</td>\n",
       "    </tr>\n",
       "    <tr>\n",
       "      <th>4</th>\n",
       "      <td>2</td>\n",
       "      <td>164.0</td>\n",
       "      <td>audi</td>\n",
       "      <td>gas</td>\n",
       "      <td>sedan</td>\n",
       "      <td>4wd</td>\n",
       "      <td>front</td>\n",
       "      <td>66.4</td>\n",
       "      <td>54.3</td>\n",
       "      <td>ohc</td>\n",
       "      <td>136</td>\n",
       "      <td>115</td>\n",
       "      <td>18</td>\n",
       "      <td>22</td>\n",
       "      <td>17450</td>\n",
       "    </tr>\n",
       "  </tbody>\n",
       "</table>\n",
       "</div>"
      ],
      "text/plain": [
       "   symboling  normalized-losses         make fuel-type   body-style  \\\n",
       "0          3              122.0  alfa-romero       gas  convertible   \n",
       "1          3              122.0  alfa-romero       gas  convertible   \n",
       "2          1              122.0  alfa-romero       gas    hatchback   \n",
       "3          2              164.0         audi       gas        sedan   \n",
       "4          2              164.0         audi       gas        sedan   \n",
       "\n",
       "  drive-wheels engine-location  width  height engine-type  engine-size  \\\n",
       "0          rwd           front   64.1    48.8        dohc          130   \n",
       "1          rwd           front   64.1    48.8        dohc          130   \n",
       "2          rwd           front   65.5    52.4        ohcv          152   \n",
       "3          fwd           front   66.2    54.3         ohc          109   \n",
       "4          4wd           front   66.4    54.3         ohc          136   \n",
       "\n",
       "  horsepower  city-mpg  highway-mpg  price  \n",
       "0        111        21           27  13495  \n",
       "1        111        21           27  16500  \n",
       "2        154        19           26  16500  \n",
       "3        102        24           30  13950  \n",
       "4        115        18           22  17450  "
      ]
     },
     "execution_count": 87,
     "metadata": {},
     "output_type": "execute_result"
    }
   ],
   "source": [
    "auto.head()"
   ]
  },
  {
   "cell_type": "code",
   "execution_count": 104,
   "id": "07288224",
   "metadata": {},
   "outputs": [
    {
     "data": {
      "text/plain": [
       "symboling              int64\n",
       "normalized-losses    float64\n",
       "make                  object\n",
       "fuel-type             object\n",
       "body-style            object\n",
       "drive-wheels          object\n",
       "engine-location       object\n",
       "width                float64\n",
       "height               float64\n",
       "engine-type           object\n",
       "engine-size            int64\n",
       "horsepower           float64\n",
       "city-mpg               int64\n",
       "highway-mpg            int64\n",
       "price                  int64\n",
       "dtype: object"
      ]
     },
     "execution_count": 104,
     "metadata": {},
     "output_type": "execute_result"
    }
   ],
   "source": [
    "auto.dtypes"
   ]
  },
  {
   "cell_type": "markdown",
   "id": "4e9ace6f",
   "metadata": {},
   "source": [
    "***Now apply labelEncoder to all the object type column***"
   ]
  },
  {
   "cell_type": "markdown",
   "id": "dd39be59",
   "metadata": {},
   "source": [
    "***first seperate numeric and object type columns***"
   ]
  },
  {
   "cell_type": "code",
   "execution_count": 113,
   "id": "361a8e46",
   "metadata": {},
   "outputs": [],
   "source": [
    "df_cat=auto.select_dtypes(\"object\")\n",
    "df_num=auto.select_dtypes([\"int64\",\"float64\"])"
   ]
  },
  {
   "cell_type": "code",
   "execution_count": 118,
   "id": "4500685e",
   "metadata": {},
   "outputs": [],
   "source": [
    "for col in df_cat:\n",
    "    le=LabelEncoder() # create object of LabelEncoder\n",
    "    df_cat[col]=le.fit_transform(df_cat[[col]])\n",
    "    #input always accepted as 2d thats why double [[]]"
   ]
  },
  {
   "cell_type": "code",
   "execution_count": 119,
   "id": "da5a072a",
   "metadata": {
    "scrolled": true
   },
   "outputs": [
    {
     "data": {
      "text/html": [
       "<div>\n",
       "<style scoped>\n",
       "    .dataframe tbody tr th:only-of-type {\n",
       "        vertical-align: middle;\n",
       "    }\n",
       "\n",
       "    .dataframe tbody tr th {\n",
       "        vertical-align: top;\n",
       "    }\n",
       "\n",
       "    .dataframe thead th {\n",
       "        text-align: right;\n",
       "    }\n",
       "</style>\n",
       "<table border=\"1\" class=\"dataframe\">\n",
       "  <thead>\n",
       "    <tr style=\"text-align: right;\">\n",
       "      <th></th>\n",
       "      <th>make</th>\n",
       "      <th>fuel-type</th>\n",
       "      <th>body-style</th>\n",
       "      <th>drive-wheels</th>\n",
       "      <th>engine-location</th>\n",
       "      <th>engine-type</th>\n",
       "    </tr>\n",
       "  </thead>\n",
       "  <tbody>\n",
       "    <tr>\n",
       "      <th>0</th>\n",
       "      <td>0</td>\n",
       "      <td>1</td>\n",
       "      <td>0</td>\n",
       "      <td>2</td>\n",
       "      <td>0</td>\n",
       "      <td>0</td>\n",
       "    </tr>\n",
       "    <tr>\n",
       "      <th>1</th>\n",
       "      <td>0</td>\n",
       "      <td>1</td>\n",
       "      <td>0</td>\n",
       "      <td>2</td>\n",
       "      <td>0</td>\n",
       "      <td>0</td>\n",
       "    </tr>\n",
       "    <tr>\n",
       "      <th>2</th>\n",
       "      <td>0</td>\n",
       "      <td>1</td>\n",
       "      <td>2</td>\n",
       "      <td>2</td>\n",
       "      <td>0</td>\n",
       "      <td>5</td>\n",
       "    </tr>\n",
       "    <tr>\n",
       "      <th>3</th>\n",
       "      <td>1</td>\n",
       "      <td>1</td>\n",
       "      <td>3</td>\n",
       "      <td>1</td>\n",
       "      <td>0</td>\n",
       "      <td>3</td>\n",
       "    </tr>\n",
       "    <tr>\n",
       "      <th>4</th>\n",
       "      <td>1</td>\n",
       "      <td>1</td>\n",
       "      <td>3</td>\n",
       "      <td>0</td>\n",
       "      <td>0</td>\n",
       "      <td>3</td>\n",
       "    </tr>\n",
       "  </tbody>\n",
       "</table>\n",
       "</div>"
      ],
      "text/plain": [
       "   make  fuel-type  body-style  drive-wheels  engine-location  engine-type\n",
       "0     0          1           0             2                0            0\n",
       "1     0          1           0             2                0            0\n",
       "2     0          1           2             2                0            5\n",
       "3     1          1           3             1                0            3\n",
       "4     1          1           3             0                0            3"
      ]
     },
     "execution_count": 119,
     "metadata": {},
     "output_type": "execute_result"
    }
   ],
   "source": [
    "df_cat.head()"
   ]
  },
  {
   "cell_type": "code",
   "execution_count": 132,
   "id": "a7afddc1",
   "metadata": {},
   "outputs": [
    {
     "name": "stdout",
     "output_type": "stream",
     "text": [
      "[ 0  1  2  3  4  5  6  7  8  9 10 11 12 13 14 15 16 17 18 19 20 21]\n",
      "['alfa-romero' 'audi' 'bmw' 'chevrolet' 'dodge' 'honda' 'isuzu' 'jaguar'\n",
      " 'mazda' 'mercedes-benz' 'mercury' 'mitsubishi' 'nissan' 'peugot'\n",
      " 'plymouth' 'porsche' 'renault' 'saab' 'subaru' 'toyota' 'volkswagen'\n",
      " 'volvo']\n"
     ]
    }
   ],
   "source": [
    "# let us check labels of \"make\" column\n",
    "print(df_cat[\"make\"].unique())\n",
    "print(auto[\"make\"].unique())\n",
    "# 0- for alfa-romero ,2- for audi and so on"
   ]
  },
  {
   "cell_type": "markdown",
   "id": "487e1ff6",
   "metadata": {},
   "source": [
    "# Handling Skewness :-"
   ]
  },
  {
   "cell_type": "raw",
   "id": "fe2e4a67",
   "metadata": {},
   "source": [
    "# Skewness :--------------------------------------------------------------------\n",
    "# skewness means measure of asymmetry of the distribution in a dataset means if the data is normaly distributed\n",
    "# means mean=median=mode than skewness will be \"0\".\n",
    "# Formula of skewness :\n",
    "# zscore= X-mean(X)/standard deviation\n",
    "# skewness only apply on continuous numerical type data. not on discrete data where we applied label encoder\n",
    "# means check for all the data present in df_num dataframe \n",
    "# there should not be skewness present in any column of our dataframe because skewness will affect the accuracy\n",
    "# for positive skewness mean>median>mode\n",
    "# for negative skewness mode>median>mean"
   ]
  },
  {
   "cell_type": "code",
   "execution_count": 133,
   "id": "ba1b2336",
   "metadata": {},
   "outputs": [],
   "source": [
    "# Let us consider an small example to understnad skewness(dummy data)\n",
    "# create a dict\n",
    "dic={'age':[4,5,6,6,6,7,7,7,7,7,7,8,8,8,9,10]}\n",
    "\n",
    "# create dictionary to dataframe\n",
    "df6=pd.DataFrame(dic)"
   ]
  },
  {
   "cell_type": "code",
   "execution_count": 134,
   "id": "95f674f6",
   "metadata": {},
   "outputs": [
    {
     "data": {
      "text/html": [
       "<div>\n",
       "<style scoped>\n",
       "    .dataframe tbody tr th:only-of-type {\n",
       "        vertical-align: middle;\n",
       "    }\n",
       "\n",
       "    .dataframe tbody tr th {\n",
       "        vertical-align: top;\n",
       "    }\n",
       "\n",
       "    .dataframe thead th {\n",
       "        text-align: right;\n",
       "    }\n",
       "</style>\n",
       "<table border=\"1\" class=\"dataframe\">\n",
       "  <thead>\n",
       "    <tr style=\"text-align: right;\">\n",
       "      <th></th>\n",
       "      <th>age</th>\n",
       "    </tr>\n",
       "  </thead>\n",
       "  <tbody>\n",
       "    <tr>\n",
       "      <th>0</th>\n",
       "      <td>4</td>\n",
       "    </tr>\n",
       "    <tr>\n",
       "      <th>1</th>\n",
       "      <td>5</td>\n",
       "    </tr>\n",
       "    <tr>\n",
       "      <th>2</th>\n",
       "      <td>6</td>\n",
       "    </tr>\n",
       "    <tr>\n",
       "      <th>3</th>\n",
       "      <td>6</td>\n",
       "    </tr>\n",
       "    <tr>\n",
       "      <th>4</th>\n",
       "      <td>6</td>\n",
       "    </tr>\n",
       "    <tr>\n",
       "      <th>5</th>\n",
       "      <td>7</td>\n",
       "    </tr>\n",
       "    <tr>\n",
       "      <th>6</th>\n",
       "      <td>7</td>\n",
       "    </tr>\n",
       "    <tr>\n",
       "      <th>7</th>\n",
       "      <td>7</td>\n",
       "    </tr>\n",
       "    <tr>\n",
       "      <th>8</th>\n",
       "      <td>7</td>\n",
       "    </tr>\n",
       "    <tr>\n",
       "      <th>9</th>\n",
       "      <td>7</td>\n",
       "    </tr>\n",
       "    <tr>\n",
       "      <th>10</th>\n",
       "      <td>7</td>\n",
       "    </tr>\n",
       "    <tr>\n",
       "      <th>11</th>\n",
       "      <td>8</td>\n",
       "    </tr>\n",
       "    <tr>\n",
       "      <th>12</th>\n",
       "      <td>8</td>\n",
       "    </tr>\n",
       "    <tr>\n",
       "      <th>13</th>\n",
       "      <td>8</td>\n",
       "    </tr>\n",
       "    <tr>\n",
       "      <th>14</th>\n",
       "      <td>9</td>\n",
       "    </tr>\n",
       "    <tr>\n",
       "      <th>15</th>\n",
       "      <td>10</td>\n",
       "    </tr>\n",
       "  </tbody>\n",
       "</table>\n",
       "</div>"
      ],
      "text/plain": [
       "    age\n",
       "0     4\n",
       "1     5\n",
       "2     6\n",
       "3     6\n",
       "4     6\n",
       "5     7\n",
       "6     7\n",
       "7     7\n",
       "8     7\n",
       "9     7\n",
       "10    7\n",
       "11    8\n",
       "12    8\n",
       "13    8\n",
       "14    9\n",
       "15   10"
      ]
     },
     "execution_count": 134,
     "metadata": {},
     "output_type": "execute_result"
    }
   ],
   "source": [
    "df6"
   ]
  },
  {
   "cell_type": "code",
   "execution_count": 135,
   "id": "be4950c2",
   "metadata": {},
   "outputs": [
    {
     "data": {
      "text/plain": [
       "age    int64\n",
       "dtype: object"
      ]
     },
     "execution_count": 135,
     "metadata": {},
     "output_type": "execute_result"
    }
   ],
   "source": [
    "df6.dtypes"
   ]
  },
  {
   "cell_type": "code",
   "execution_count": 136,
   "id": "77a087c1",
   "metadata": {},
   "outputs": [
    {
     "data": {
      "text/plain": [
       "age\n",
       "7      6\n",
       "6      3\n",
       "8      3\n",
       "4      1\n",
       "5      1\n",
       "9      1\n",
       "10     1\n",
       "dtype: int64"
      ]
     },
     "execution_count": 136,
     "metadata": {},
     "output_type": "execute_result"
    }
   ],
   "source": [
    "df6.value_counts()"
   ]
  },
  {
   "cell_type": "code",
   "execution_count": 139,
   "id": "793c7f86",
   "metadata": {},
   "outputs": [
    {
     "data": {
      "image/png": "[encoded data removed]",
      "text/plain": [
       "<Figure size 640x480 with 1 Axes>"
      ]
     },
     "metadata": {},
     "output_type": "display_data"
    }
   ],
   "source": [
    "# for continuous numeric value to visualize frequency graph use histogrm\n",
    "x=df6[\"age\"]\n",
    "sns.histplot(x)\n",
    "plt.xticks(x)\n",
    "plt.show()"
   ]
  },
  {
   "cell_type": "raw",
   "id": "9083f5a4",
   "metadata": {},
   "source": [
    "Now if we get central tendency values (mean,median,mode)\n",
    "mean : average value (sum of all elements/No of elements)\n",
    "median: middle value when list sorted in ascending (N+1)/2\n",
    "mode: most frequent value in the iterable"
   ]
  },
  {
   "cell_type": "code",
   "execution_count": 143,
   "id": "6e41ddec",
   "metadata": {},
   "outputs": [
    {
     "name": "stdout",
     "output_type": "stream",
     "text": [
      "mean: 7.0\n",
      "median: 7.0\n",
      "mode: 0    7\n",
      "Name: age, dtype: int64\n"
     ]
    }
   ],
   "source": [
    "mean=df6[\"age\"].mean()\n",
    "print(\"mean:\",mean)\n",
    "median=df6[\"age\"].median()\n",
    "print(\"median:\",median)\n",
    "mode=df6[\"age\"].mode()\n",
    "print(\"mode:\",mode)"
   ]
  },
  {
   "cell_type": "raw",
   "id": "f49d01b3",
   "metadata": {},
   "source": [
    "so here mean=median=mode means normal distribution means bellshaped curve\n",
    "mean no skewness present\n",
    "if 0.01 to 0.09 skewness is not considered if more than 0.1 means skewness present"
   ]
  },
  {
   "cell_type": "code",
   "execution_count": 147,
   "id": "868f2978",
   "metadata": {},
   "outputs": [
    {
     "data": {
      "image/png": "[encoded data removed]",
      "text/plain": [
       "<Figure size 640x480 with 1 Axes>"
      ]
     },
     "metadata": {},
     "output_type": "display_data"
    }
   ],
   "source": [
    "# to show bellshaped curve also in distribution use distplot\n",
    "sns.distplot(df6[\"age\"])\n",
    "plt.xticks(df6[\"age\"])\n",
    "plt.show()"
   ]
  },
  {
   "cell_type": "raw",
   "id": "0a5132d6",
   "metadata": {},
   "source": [
    "-so we can see that the curve is bell shaped means normally distributed means here\n",
    " skewness should be 0 \n",
    "-In positive skewness the highest value data distribution is on left and the curve tail\n",
    " is elongated on the right side (mean>median>mode)\n",
    "-Similarly for negative skewness the highest value data distribution is on the right side\n",
    " and the curve tail is elongated on the left side (mode>median>mode)"
   ]
  },
  {
   "cell_type": "code",
   "execution_count": 148,
   "id": "37555a46",
   "metadata": {},
   "outputs": [
    {
     "data": {
      "text/plain": [
       "0.0"
      ]
     },
     "execution_count": 148,
     "metadata": {},
     "output_type": "execute_result"
    }
   ],
   "source": [
    "# check skewness\n",
    "df6[\"age\"].skew() #skew() inbuilt method of numpy"
   ]
  },
  {
   "cell_type": "raw",
   "id": "12c02e08",
   "metadata": {},
   "source": [
    "- Now if there is positive or negative skewness present in a column we will try to reduce it by \n",
    "  applying transformation\n",
    "- There are two types of transformation :\n",
    "- 1. sqrt() transformation   and  2. log() transformation\n",
    "- use any one mostly used is log() because skewness is reduced more compared to sqrt()\n",
    "- But before applying transformation there are 3 rules to follow:\n",
    "- 1. check for correlation of input with output. if correlation of i/p with o/p >=0.5.\n",
    "     than don't apply transformation even if skewness present. \n",
    "     because if we apply transformation it will change the pattern of the data and our accuracy\n",
    "     will be affected and there will be false predictions.\n",
    "- 2. There should be no negative values present in the column.\n",
    "     because the transformation of negative values will be null"
   ]
  },
  {
   "cell_type": "markdown",
   "id": "99e54d4c",
   "metadata": {},
   "source": [
    "## check for skewness in automobile dataset"
   ]
  },
  {
   "cell_type": "code",
   "execution_count": 163,
   "id": "64213594",
   "metadata": {},
   "outputs": [
    {
     "data": {
      "text/plain": [
       "Index(['symboling', 'normalized-losses', 'width', 'height', 'engine-size',\n",
       "       'horsepower', 'city-mpg', 'highway-mpg', 'price'],\n",
       "      dtype='object')"
      ]
     },
     "execution_count": 163,
     "metadata": {},
     "output_type": "execute_result"
    }
   ],
   "source": [
    "# we check skewness for onlu continuous numeric values\n",
    "# so we have to check for continuous numeric coluns only which are in df_num\n",
    "col=df_num.columns\n",
    "col"
   ]
  },
  {
   "cell_type": "code",
   "execution_count": 158,
   "id": "d1045fa6",
   "metadata": {
    "scrolled": true
   },
   "outputs": [
    {
     "name": "stdout",
     "output_type": "stream",
     "text": [
      "skewness of symboling = 0.21474950107949758\n",
      "skewness of normalized-losses = 0.864950127117412\n",
      "skewness of width = 0.9047299966389618\n",
      "skewness of height = 0.05752450697096236\n",
      "skewness of engine-size = 1.9586702992273624\n",
      "skewness of horsepower = 1.415439471459341\n",
      "skewness of city-mpg = 0.6567093626208058\n",
      "skewness of highway-mpg = 0.5326740737705773\n",
      "skewness of price = 1.8003511235343954\n"
     ]
    }
   ],
   "source": [
    "# check skewness for all numeric columns\n",
    "skeww=[]\n",
    "for col in df_num:\n",
    "    s=df_num[col].skew()\n",
    "    skeww.append(s)\n",
    "    print(f\"skewness of {col} = {s}\")"
   ]
  },
  {
   "cell_type": "code",
   "execution_count": 172,
   "id": "54a119af",
   "metadata": {},
   "outputs": [
    {
     "name": "stdout",
     "output_type": "stream",
     "text": [
      "[-0.08613973525115227, 0.1337174960748892, 0.7183443169055715, 0.13289073165041232, 0.8541395158570915, 0.7487464418157299, -0.6562314283702618, -0.6808247295363732, 1.0]\n"
     ]
    }
   ],
   "source": [
    "# correlation of all columns with output\n",
    "corr=[]\n",
    "for i in (df_num.corr()[\"price\"]):\n",
    "    corr.append(i)\n",
    "print(corr)"
   ]
  },
  {
   "cell_type": "code",
   "execution_count": 156,
   "id": "8c07159c",
   "metadata": {},
   "outputs": [
    {
     "name": "stdout",
     "output_type": "stream",
     "text": [
      "symboling : [ 3  1  2  0 -1 -2]\n",
      "normalized-losses : [122. 164. 158. 192. 188. 121.  98.  81. 118. 148. 110. 137. 101.  78.\n",
      " 106.  85. 107. 145. 104. 113. 150. 129. 115.  93. 142. 161. 153. 125.\n",
      " 128. 103. 168. 108. 194. 231. 119. 154.  74. 186.  83. 102.  89.  87.\n",
      "  77.  91. 134.  65. 197.  90.  94. 256.  95.]\n",
      "width : [64.1 65.5 66.2 66.4 66.3 71.4 67.9 64.8 66.9 70.9 60.3 63.6 63.8 64.6\n",
      " 63.9 64.  65.2 62.5 66.  61.8 69.6 70.6 64.2 65.7 66.5 66.1 70.3 71.7\n",
      " 70.5 72.  68.  64.4 65.4 68.4 68.3 65.  72.3 66.6 63.4 65.6 67.7 67.2\n",
      " 68.9 68.8]\n",
      "height : [48.8 52.4 54.3 53.1 55.7 55.9 52.  53.7 56.3 53.2 50.8 50.6 59.8 52.6\n",
      " 54.5 58.3 53.3 54.1 51.  53.5 51.4 52.8 47.8 49.6 55.5 54.4 56.5 58.7\n",
      " 54.9 56.7 55.4 54.8 49.4 50.2 51.6 54.7 55.1 56.1 49.7 56.  50.5 55.2\n",
      " 52.5 53.  59.1 53.9 55.6 56.2 57.5]\n",
      "engine-size : [130 152 109 136 131 108 164 209  61  90  98 122  92  79 110 111 119 258\n",
      " 326  91  70  80 140 134 183 234 308 304 156  97 103 120 181 151 194 203\n",
      " 132 121 146 171 161 141 173 145]\n",
      "horsepower : [111.   154.   102.   115.   110.   140.   160.   101.   121.   182.\n",
      "  48.    70.    68.    88.    58.    76.    60.    86.   100.    78.\n",
      "  90.   176.   262.   135.    84.    64.   120.    72.   123.   155.\n",
      " 184.   175.   116.   145.    69.    55.    97.   152.   200.    95.\n",
      " 142.   143.   207.   288.   104.05  73.    82.    94.    62.    56.\n",
      " 112.    92.   161.   156.    52.    85.   114.   162.   134.   106.  ]\n",
      "city-mpg : [21 19 24 18 17 16 23 20 15 47 38 37 31 49 30 27 25 13 26 36 22 14 45 28\n",
      " 32 35 34 29 33]\n",
      "highway-mpg : [27 26 30 22 25 20 29 28 53 43 41 38 54 42 34 33 31 19 17 23 32 39 18 16\n",
      " 24 37 50 36 47 46]\n",
      "price : [13495 16500 13950 17450 15250 17710 18920 23875 12000 16430 16925 20970\n",
      " 21105 24565 30760 41315 36880  5151  6295  6575  5572  6377  7957  6229\n",
      "  6692  7609  8558  8921  6479  6855  5399  6529  7129  7295  7895  9095\n",
      "  8845 10295 12945 10345  6785 10000 23000 11048 32250 35550 36000  5195\n",
      "  6095  6795  6695  7395 10945 11845 13645 15645  8495 10595 10245 10795\n",
      " 11245 18280 18344 25552 28248 28176 31600 34184 35056 40960 45400 16503\n",
      "  5389  6189  6669  7689  9959  8499 12629 14869 14489  6989  8189  9279\n",
      "  5499  7099  6649  6849  7349  7299  7799  7499  7999  8249  8949  9549\n",
      " 13499 14399 17199 19699 18399 11900 13200 12440 13860 15580 16900 16695\n",
      " 17075 16630 17950 18150 12764 22018 32528 34028 37028  9295  9895 11850\n",
      " 12170 15040 15510 18620  5118  7053  7603  7126  7775  9960  9233 11259\n",
      "  7463 10198  8013 11694  5348  6338  6488  6918  7898  8778  6938  7198\n",
      "  7788  7738  8358  9258  8058  8238  9298  9538  8449  9639  9989 11199\n",
      " 11549 17669  8948 10698  9988 10898 11248 16558 15998 15690 15750  7975\n",
      "  7995  8195  9495  9995 11595  9980 13295 13845 12290 12940 13415 15985\n",
      " 16515 18420 18950 16845 19045 21485 22470 22625]\n"
     ]
    }
   ],
   "source": [
    "# check for negative values in all columns\n",
    "for col in df_num:\n",
    "    n=df_num[col].unique()\n",
    "    print(f\"{col} : {n}\")"
   ]
  },
  {
   "cell_type": "code",
   "execution_count": 162,
   "id": "ac4b736d",
   "metadata": {},
   "outputs": [],
   "source": [
    "# so we can see that only symboling is having negative value \n",
    "neg=[\"yes\",\"no\",\"no\",\"no\",\"no\",\"no\",\"no\",\"no\",\"no\"]"
   ]
  },
  {
   "cell_type": "code",
   "execution_count": 157,
   "id": "c81d5d41",
   "metadata": {},
   "outputs": [
    {
     "name": "stdout",
     "output_type": "stream",
     "text": [
      "skewness of symboling = 0.21474950107949758\n",
      "skewness of normalized-losses = 0.864950127117412\n",
      "skewness of width = 0.9047299966389618\n",
      "skewness of height = 0.05752450697096236\n",
      "skewness of engine-size = 1.9586702992273624\n",
      "skewness of horsepower = 1.415439471459341\n",
      "skewness of city-mpg = 0.6567093626208058\n",
      "skewness of highway-mpg = 0.5326740737705773\n",
      "skewness of price = 1.8003511235343954\n"
     ]
    }
   ],
   "source": [
    "# check skewness for all numeric columns\n",
    "skew=[]\n",
    "for col in df_num:\n",
    "    s=df_num[col].skew()\n",
    "    skew.append(s)\n",
    "    print(f\"skewness of {col} = {s}\")"
   ]
  },
  {
   "cell_type": "code",
   "execution_count": 173,
   "id": "d4769556",
   "metadata": {},
   "outputs": [
    {
     "data": {
      "text/html": [
       "<div>\n",
       "<style scoped>\n",
       "    .dataframe tbody tr th:only-of-type {\n",
       "        vertical-align: middle;\n",
       "    }\n",
       "\n",
       "    .dataframe tbody tr th {\n",
       "        vertical-align: top;\n",
       "    }\n",
       "\n",
       "    .dataframe thead th {\n",
       "        text-align: right;\n",
       "    }\n",
       "</style>\n",
       "<table border=\"1\" class=\"dataframe\">\n",
       "  <thead>\n",
       "    <tr style=\"text-align: right;\">\n",
       "      <th></th>\n",
       "      <th>column</th>\n",
       "      <th>skewness</th>\n",
       "      <th>negative</th>\n",
       "      <th>correlation</th>\n",
       "    </tr>\n",
       "  </thead>\n",
       "  <tbody>\n",
       "    <tr>\n",
       "      <th>0</th>\n",
       "      <td>symboling</td>\n",
       "      <td>0.214750</td>\n",
       "      <td>yes</td>\n",
       "      <td>-0.086140</td>\n",
       "    </tr>\n",
       "    <tr>\n",
       "      <th>1</th>\n",
       "      <td>normalized-losses</td>\n",
       "      <td>0.864950</td>\n",
       "      <td>no</td>\n",
       "      <td>0.133717</td>\n",
       "    </tr>\n",
       "    <tr>\n",
       "      <th>2</th>\n",
       "      <td>width</td>\n",
       "      <td>0.904730</td>\n",
       "      <td>no</td>\n",
       "      <td>0.718344</td>\n",
       "    </tr>\n",
       "    <tr>\n",
       "      <th>3</th>\n",
       "      <td>height</td>\n",
       "      <td>0.057525</td>\n",
       "      <td>no</td>\n",
       "      <td>0.132891</td>\n",
       "    </tr>\n",
       "    <tr>\n",
       "      <th>4</th>\n",
       "      <td>engine-size</td>\n",
       "      <td>1.958670</td>\n",
       "      <td>no</td>\n",
       "      <td>0.854140</td>\n",
       "    </tr>\n",
       "    <tr>\n",
       "      <th>5</th>\n",
       "      <td>horsepower</td>\n",
       "      <td>1.415439</td>\n",
       "      <td>no</td>\n",
       "      <td>0.748746</td>\n",
       "    </tr>\n",
       "    <tr>\n",
       "      <th>6</th>\n",
       "      <td>city-mpg</td>\n",
       "      <td>0.656709</td>\n",
       "      <td>no</td>\n",
       "      <td>-0.656231</td>\n",
       "    </tr>\n",
       "    <tr>\n",
       "      <th>7</th>\n",
       "      <td>highway-mpg</td>\n",
       "      <td>0.532674</td>\n",
       "      <td>no</td>\n",
       "      <td>-0.680825</td>\n",
       "    </tr>\n",
       "    <tr>\n",
       "      <th>8</th>\n",
       "      <td>price</td>\n",
       "      <td>1.800351</td>\n",
       "      <td>no</td>\n",
       "      <td>1.000000</td>\n",
       "    </tr>\n",
       "  </tbody>\n",
       "</table>\n",
       "</div>"
      ],
      "text/plain": [
       "              column  skewness negative  correlation\n",
       "0          symboling  0.214750      yes    -0.086140\n",
       "1  normalized-losses  0.864950       no     0.133717\n",
       "2              width  0.904730       no     0.718344\n",
       "3             height  0.057525       no     0.132891\n",
       "4        engine-size  1.958670       no     0.854140\n",
       "5         horsepower  1.415439       no     0.748746\n",
       "6           city-mpg  0.656709       no    -0.656231\n",
       "7        highway-mpg  0.532674       no    -0.680825\n",
       "8              price  1.800351       no     1.000000"
      ]
     },
     "execution_count": 173,
     "metadata": {},
     "output_type": "execute_result"
    }
   ],
   "source": [
    "# create a datframe to view everything together\n",
    "dict={\"column\":col,\"skewness\":skeww,\"negative\":neg,\"correlation\":corr}\n",
    "skew_rule=pd.DataFrame(dict)\n",
    "skew_rule"
   ]
  },
  {
   "cell_type": "markdown",
   "id": "d2863d25",
   "metadata": {},
   "source": [
    "## Applying transformation on normalized-losses column"
   ]
  },
  {
   "cell_type": "code",
   "execution_count": 180,
   "id": "16ca4caa",
   "metadata": {},
   "outputs": [],
   "source": [
    "# because only normalized-losses is having skewness and no negative present \n",
    "# and correlation <0.5\n",
    "df_num[\"normalized-losses\"]=np.log(df_num[\"normalized-losses\"])"
   ]
  },
  {
   "cell_type": "code",
   "execution_count": 181,
   "id": "66aa4177",
   "metadata": {},
   "outputs": [
    {
     "data": {
      "text/plain": [
       "0.04104710005254059"
      ]
     },
     "execution_count": 181,
     "metadata": {},
     "output_type": "execute_result"
    }
   ],
   "source": [
    "# Now we can check that the skewness has been reduced\n",
    "df_num[\"normalized-losses\"].skew()"
   ]
  },
  {
   "cell_type": "code",
   "execution_count": 182,
   "id": "4420f379",
   "metadata": {},
   "outputs": [],
   "source": [
    "#---------------------------------------------------------------------------------------------------------------------"
   ]
  },
  {
   "cell_type": "code",
   "execution_count": 184,
   "id": "1c59e9c9",
   "metadata": {
    "scrolled": true
   },
   "outputs": [
    {
     "data": {
      "text/html": [
       "<div>\n",
       "<style scoped>\n",
       "    .dataframe tbody tr th:only-of-type {\n",
       "        vertical-align: middle;\n",
       "    }\n",
       "\n",
       "    .dataframe tbody tr th {\n",
       "        vertical-align: top;\n",
       "    }\n",
       "\n",
       "    .dataframe thead th {\n",
       "        text-align: right;\n",
       "    }\n",
       "</style>\n",
       "<table border=\"1\" class=\"dataframe\">\n",
       "  <thead>\n",
       "    <tr style=\"text-align: right;\">\n",
       "      <th></th>\n",
       "      <th>make</th>\n",
       "      <th>fuel-type</th>\n",
       "      <th>body-style</th>\n",
       "      <th>drive-wheels</th>\n",
       "      <th>engine-location</th>\n",
       "      <th>engine-type</th>\n",
       "      <th>symboling</th>\n",
       "      <th>normalized-losses</th>\n",
       "      <th>width</th>\n",
       "      <th>height</th>\n",
       "      <th>engine-size</th>\n",
       "      <th>horsepower</th>\n",
       "      <th>city-mpg</th>\n",
       "      <th>highway-mpg</th>\n",
       "      <th>price</th>\n",
       "    </tr>\n",
       "  </thead>\n",
       "  <tbody>\n",
       "    <tr>\n",
       "      <th>0</th>\n",
       "      <td>0</td>\n",
       "      <td>1</td>\n",
       "      <td>0</td>\n",
       "      <td>2</td>\n",
       "      <td>0</td>\n",
       "      <td>0</td>\n",
       "      <td>3</td>\n",
       "      <td>4.804021</td>\n",
       "      <td>64.1</td>\n",
       "      <td>48.8</td>\n",
       "      <td>130</td>\n",
       "      <td>111.0</td>\n",
       "      <td>21</td>\n",
       "      <td>27</td>\n",
       "      <td>13495</td>\n",
       "    </tr>\n",
       "    <tr>\n",
       "      <th>1</th>\n",
       "      <td>0</td>\n",
       "      <td>1</td>\n",
       "      <td>0</td>\n",
       "      <td>2</td>\n",
       "      <td>0</td>\n",
       "      <td>0</td>\n",
       "      <td>3</td>\n",
       "      <td>4.804021</td>\n",
       "      <td>64.1</td>\n",
       "      <td>48.8</td>\n",
       "      <td>130</td>\n",
       "      <td>111.0</td>\n",
       "      <td>21</td>\n",
       "      <td>27</td>\n",
       "      <td>16500</td>\n",
       "    </tr>\n",
       "    <tr>\n",
       "      <th>2</th>\n",
       "      <td>0</td>\n",
       "      <td>1</td>\n",
       "      <td>2</td>\n",
       "      <td>2</td>\n",
       "      <td>0</td>\n",
       "      <td>5</td>\n",
       "      <td>1</td>\n",
       "      <td>4.804021</td>\n",
       "      <td>65.5</td>\n",
       "      <td>52.4</td>\n",
       "      <td>152</td>\n",
       "      <td>154.0</td>\n",
       "      <td>19</td>\n",
       "      <td>26</td>\n",
       "      <td>16500</td>\n",
       "    </tr>\n",
       "    <tr>\n",
       "      <th>3</th>\n",
       "      <td>1</td>\n",
       "      <td>1</td>\n",
       "      <td>3</td>\n",
       "      <td>1</td>\n",
       "      <td>0</td>\n",
       "      <td>3</td>\n",
       "      <td>2</td>\n",
       "      <td>5.099866</td>\n",
       "      <td>66.2</td>\n",
       "      <td>54.3</td>\n",
       "      <td>109</td>\n",
       "      <td>102.0</td>\n",
       "      <td>24</td>\n",
       "      <td>30</td>\n",
       "      <td>13950</td>\n",
       "    </tr>\n",
       "    <tr>\n",
       "      <th>4</th>\n",
       "      <td>1</td>\n",
       "      <td>1</td>\n",
       "      <td>3</td>\n",
       "      <td>0</td>\n",
       "      <td>0</td>\n",
       "      <td>3</td>\n",
       "      <td>2</td>\n",
       "      <td>5.099866</td>\n",
       "      <td>66.4</td>\n",
       "      <td>54.3</td>\n",
       "      <td>136</td>\n",
       "      <td>115.0</td>\n",
       "      <td>18</td>\n",
       "      <td>22</td>\n",
       "      <td>17450</td>\n",
       "    </tr>\n",
       "  </tbody>\n",
       "</table>\n",
       "</div>"
      ],
      "text/plain": [
       "   make  fuel-type  body-style  drive-wheels  engine-location  engine-type  \\\n",
       "0     0          1           0             2                0            0   \n",
       "1     0          1           0             2                0            0   \n",
       "2     0          1           2             2                0            5   \n",
       "3     1          1           3             1                0            3   \n",
       "4     1          1           3             0                0            3   \n",
       "\n",
       "   symboling  normalized-losses  width  height  engine-size  horsepower  \\\n",
       "0          3           4.804021   64.1    48.8          130       111.0   \n",
       "1          3           4.804021   64.1    48.8          130       111.0   \n",
       "2          1           4.804021   65.5    52.4          152       154.0   \n",
       "3          2           5.099866   66.2    54.3          109       102.0   \n",
       "4          2           5.099866   66.4    54.3          136       115.0   \n",
       "\n",
       "   city-mpg  highway-mpg  price  \n",
       "0        21           27  13495  \n",
       "1        21           27  16500  \n",
       "2        19           26  16500  \n",
       "3        24           30  13950  \n",
       "4        18           22  17450  "
      ]
     },
     "execution_count": 184,
     "metadata": {},
     "output_type": "execute_result"
    }
   ],
   "source": [
    "## Now merge both numeric and categorical columns\n",
    "auto_new=pd.concat([df_cat,df_num],axis=1)\n",
    "auto_new.head()"
   ]
  },
  {
   "cell_type": "code",
   "execution_count": 185,
   "id": "1447ca93",
   "metadata": {},
   "outputs": [],
   "source": [
    "#----------------------------------------------------------------------------------------------------------------------"
   ]
  },
  {
   "cell_type": "markdown",
   "id": "bb919a29",
   "metadata": {},
   "source": [
    "# scaling"
   ]
  },
  {
   "cell_type": "raw",
   "id": "8ffe28c1",
   "metadata": {},
   "source": [
    "- So all our columns are having different different units so whenever we want to perform mathamatical \n",
    "  operations on all columns we need to have all the columns with same unit\n",
    "- So we have to scale all the features to a single unit \n",
    "- And we need to apply scaling onnly on continuous numeric columns not on disreate\n",
    "- There are two types of scaling \n",
    "- 1. MinMaxScaler (Normalization)   formula: x-xmin/xmax-xmin (scales value between(0-1)\n",
    "- 2. StandardScaler (Standardization)  formula: x-x(mean)/S.D"
   ]
  },
  {
   "cell_type": "code",
   "execution_count": 186,
   "id": "7a04bac8",
   "metadata": {},
   "outputs": [],
   "source": [
    "# call inbuilt class StandardScaler defined in preprocessing class\n",
    "from sklearn.preprocessing import StandardScaler\n",
    "# create a object of StandardScaler class\n",
    "ss=StandardScaler()"
   ]
  },
  {
   "cell_type": "code",
   "execution_count": 187,
   "id": "37c7390c",
   "metadata": {},
   "outputs": [],
   "source": [
    "# selct input output\n",
    "x=auto_new.drop(\"price\",axis=1)\n",
    "y=auto_new[\"price\"]"
   ]
  },
  {
   "cell_type": "code",
   "execution_count": 190,
   "id": "ea40ab58",
   "metadata": {},
   "outputs": [],
   "source": [
    "from sklearn.model_selection import train_test_split\n",
    "#train_test_split\n",
    "x_train,x_test,y_train,y_test=train_test_split(x,y,test_size=0.3,random_state=1)"
   ]
  },
  {
   "cell_type": "code",
   "execution_count": 191,
   "id": "a808c9e7",
   "metadata": {},
   "outputs": [],
   "source": [
    "# Apply StandardScaler \n",
    "x_train=ss.fit_transform(x_train)\n",
    "x_test=ss.transform(x_test)"
   ]
  },
  {
   "cell_type": "code",
   "execution_count": 193,
   "id": "7beb34a8",
   "metadata": {},
   "outputs": [
    {
     "data": {
      "text/plain": [
       "array([[ 1.19543463, -2.90975371,  0.51098067, ..., -1.32573441,\n",
       "         2.02051841,  2.40880296],\n",
       "       [ 1.03663976,  0.3436717 ,  0.51098067, ..., -0.89152689,\n",
       "         0.54411902,  0.56817505],\n",
       "       [ 1.3542295 ,  0.3436717 ,  0.51098067, ...,  0.16986925,\n",
       "        -0.11205848, -0.35213891],\n",
       "       ...,\n",
       "       [-0.55130896,  0.3436717 ,  0.51098067, ...,  1.85845402,\n",
       "        -1.75250225, -2.19276682],\n",
       "       [ 0.87784489,  0.3436717 ,  0.51098067, ..., -0.60205522,\n",
       "         1.20029653,  1.02833203],\n",
       "       [-1.18648844,  0.3436717 , -0.64075354, ..., -0.50556466,\n",
       "         0.38007465,  0.41478939]])"
      ]
     },
     "execution_count": 193,
     "metadata": {},
     "output_type": "execute_result"
    }
   ],
   "source": [
    "x_train "
   ]
  },
  {
   "cell_type": "code",
   "execution_count": null,
   "id": "1666730a",
   "metadata": {},
   "outputs": [],
   "source": []
  }
 ],
 "metadata": {
  "kernelspec": {
   "display_name": "Python 3 (ipykernel)",
   "language": "python",
   "name": "python3"
  },
  "language_info": {
   "codemirror_mode": {
    "name": "ipython",
    "version": 3
   },
   "file_extension": ".py",
   "mimetype": "text/x-python",
   "name": "python",
   "nbconvert_exporter": "python",
   "pygments_lexer": "ipython3",
   "version": "3.9.13"
  }
 },
 "nbformat": 4,
 "nbformat_minor": 5
}
